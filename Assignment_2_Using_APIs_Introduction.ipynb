{
  "nbformat": 4,
  "nbformat_minor": 0,
  "metadata": {
    "colab": {
      "name": "Assignment 2 - Using APIs Introduction",
      "provenance": [],
      "authorship_tag": "ABX9TyMMhQVKH1cH4pfi/mSImLf9",
      "include_colab_link": true
    },
    "kernelspec": {
      "name": "python3",
      "display_name": "Python 3"
    },
    "language_info": {
      "name": "python"
    }
  },
  "cells": [
    {
      "cell_type": "markdown",
      "metadata": {
        "id": "view-in-github",
        "colab_type": "text"
      },
      "source": [
        "<a href=\"https://colab.research.google.com/github/yongj01/HHA-507-Assignment-2-Using-APIs-Introduction/blob/main/Assignment_2_Using_APIs_Introduction.ipynb\" target=\"_parent\"><img src=\"https://colab.research.google.com/assets/colab-badge.svg\" alt=\"Open In Colab\"/></a>"
      ]
    },
    {
      "cell_type": "markdown",
      "metadata": {
        "id": "NxC9P7hrSZWI"
      },
      "source": [
        "**HHA 507 Assignment 2: Using APIs Introduction**\n",
        "\n",
        "> Indented block\n",
        "\n"
      ]
    },
    {
      "cell_type": "markdown",
      "metadata": {
        "id": "OgYl2re2Ab08"
      },
      "source": [
        "**Installing packages and a request library**"
      ]
    },
    {
      "cell_type": "code",
      "metadata": {
        "id": "yi02-KzZ_GFZ"
      },
      "source": [
        "import pandas as pd\n",
        "import requests\n",
        "import json\n"
      ],
      "execution_count": null,
      "outputs": []
    },
    {
      "cell_type": "markdown",
      "metadata": {
        "id": "bnaeIyWrt5JP"
      },
      "source": [
        "**Writing a get request to pull data from an API, worldwide COVID data from 9/1/2021 to 9/2/2021**"
      ]
    },
    {
      "cell_type": "code",
      "metadata": {
        "id": "2TZ-o0rDATlo"
      },
      "source": [
        "response = requests.get(\"https://covidtrackerapi.bsg.ox.ac.uk/api/v2/stringency/date-range/2021-09-01/2021-09-02\")"
      ],
      "execution_count": null,
      "outputs": []
    },
    {
      "cell_type": "markdown",
      "metadata": {
        "id": "4hCwOmPhuABs"
      },
      "source": [
        "**Printing a status code to ensure that data is correctly accessed**"
      ]
    },
    {
      "cell_type": "code",
      "metadata": {
        "colab": {
          "base_uri": "https://localhost:8080/"
        },
        "id": "aqm5DTbNatjD",
        "outputId": "7cfe375e-9efe-4307-e8f9-94509549f8d0"
      },
      "source": [
        "print(response.status_code)"
      ],
      "execution_count": null,
      "outputs": [
        {
          "output_type": "stream",
          "name": "stdout",
          "text": [
            "200\n"
          ]
        }
      ]
    },
    {
      "cell_type": "markdown",
      "metadata": {
        "id": "d2biL_hiuGzo"
      },
      "source": [
        "**Retrieving the data in a JSON format**"
      ]
    },
    {
      "cell_type": "code",
      "metadata": {
        "id": "_4TNY4J3bUXg"
      },
      "source": [
        "response.json()"
      ],
      "execution_count": null,
      "outputs": []
    }
  ]
}